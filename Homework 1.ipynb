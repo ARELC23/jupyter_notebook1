{
 "cells": [
  {
   "cell_type": "markdown",
   "metadata": {},
   "source": [
    "To complete the homework simply fill in your answers in this jupyter notebook!\n",
    "\n",
    "Remember that there are many ways in which markup cells can be used and you can add useful things such as references and images to better explain your answers.\n",
    "\n",
    "It is perfectly fine if you copy your answer from somewhere else in the internet as long as you understand the code you copied and cite the source. However, refrain from asking help for your colleagues (unless you're really struggling) as the ability to find information online is crucial for any tech role you might want to have in the future.\n",
    "\n",
    "<h1> Question 1: Multiple prints</h1>\n",
    "Create 3 different variables of different types and print their values using a single print statement."
   ]
  },
  {
   "cell_type": "code",
   "execution_count": 5,
   "metadata": {},
   "outputs": [
    {
     "name": "stdout",
     "output_type": "stream",
     "text": [
      "42 {'species': 'Ork', 'speech': 'Waagh'} [1, 2, 3]\n"
     ]
    }
   ],
   "source": [
    "an_int = 42\n",
    "a_dict = {'species': 'Ork', 'speech': 'Waagh'}\n",
    "a_list = [1,2,3]\n",
    "\n",
    "print(an_int, a_dict, a_list)\n"
   ]
  },
  {
   "cell_type": "markdown",
   "metadata": {},
   "source": [
    "<h1> Question 2: Data structures</h1>\n",
    "Create two variables containing each a nested list and a nested dictionary and demonstrate how to access .specific items of it"
   ]
  },
  {
   "cell_type": "code",
   "execution_count": 12,
   "metadata": {},
   "outputs": [
    {
     "name": "stdout",
     "output_type": "stream",
     "text": [
      "38\n",
      "waagh\n"
     ]
    }
   ],
   "source": [
    "#nested list\n",
    "an_list= [[32,33,34], [36,37,38], [39,40,41,42]]\n",
    "print(an_list[1][2]) #= 38 as it prints the second groups third number.\n",
    "\n",
    "#nested dictionary\n",
    "a_dict = {'noisy': {'ork': 'waagh', 'pig': 'oink', 'cow': 'muu'}, 'quiet': {'fish': 'ploop', 'mole': 'what?', 'cat': 'ninja'}}\n",
    "# print(a_dict['noisy']['ork']) = 'waagh'\n",
    "print(a_dict['noisy']['ork'])"
   ]
  },
  {
   "cell_type": "markdown",
   "metadata": {},
   "source": [
    "Now consider the following list,"
   ]
  },
  {
   "cell_type": "code",
   "execution_count": 13,
   "metadata": {},
   "outputs": [],
   "source": [
    "a_list = [1,2,3,4,5,6,7,8,9]"
   ]
  },
  {
   "cell_type": "code",
   "execution_count": 23,
   "metadata": {},
   "outputs": [
    {
     "name": "stdout",
     "output_type": "stream",
     "text": [
      "[1, 2, 3, 4]\n",
      "[2, 4, 6, 8]\n",
      "[3, 6, 9]\n",
      "A sentence with 1.\n",
      "A sentence with 2.\n",
      "A sentence with 3.\n",
      "A sentence with 4.\n",
      "A sentence with 5.\n",
      "A sentence with 6.\n",
      "A sentence with 7.\n",
      "A sentence with 8.\n",
      "A sentence with 9.\n"
     ]
    }
   ],
   "source": [
    "sliced_list = list(a_list)[:4]\n",
    "print(sliced_list)\n",
    "only_even = [x for x in a_list if x % 2 == 0] \n",
    "print(only_even)\n",
    "of_three = [x for x in a_list if x % 3 == 0]\n",
    "print(of_three)\n",
    "for item in a_list:\n",
    "    print(f\"A sentence with {item}.\")\n"
   ]
  },
  {
   "cell_type": "markdown",
   "metadata": {},
   "source": [
    "1 - slice this list (by index) to contain only the numbers smaller than 5; <br>\n",
    "2 - make a loop to create a new list containing only the EVEN numbers of this list (bonus point if you use a list comprehension!!);<br>\n",
    "3 - make a loop to create a new list containing only the numbers that are multiples of 3;<br>\n",
    "Bonus - make a loop that will print every item on the list inside a sentence using a f-string."
   ]
  },
  {
   "cell_type": "markdown",
   "metadata": {},
   "source": [
    "<h1>Question 3: Creating functions</h1>\n",
    "\n",
    "Create a function that takes a list of numbers and convert them into strings. (bonus point if you use a list comprehension!!)"
   ]
  },
  {
   "cell_type": "code",
   "execution_count": 24,
   "metadata": {},
   "outputs": [],
   "source": [
    "def convert_to_string(numbers): #def will define a function, follow with the word.\n",
    "    return [str(num) for num in numbers] #this will use list comprehension over each number to convert into\n",
    "# a string str"
   ]
  },
  {
   "cell_type": "code",
   "execution_count": 35,
   "metadata": {},
   "outputs": [
    {
     "name": "stdout",
     "output_type": "stream",
     "text": [
      "['1', '2', '3', '4', '5', '6', '7', '8', '9']\n"
     ]
    }
   ],
   "source": [
    "numbers = [1,2,3,4,5,6,7,8,9]\n",
    "strings = convert_to_string(numbers)\n",
    "print(strings)"
   ]
  },
  {
   "cell_type": "code",
   "execution_count": 25,
   "metadata": {},
   "outputs": [
    {
     "data": {
      "text/plain": [
       "'1'"
      ]
     },
     "execution_count": 25,
     "metadata": {},
     "output_type": "execute_result"
    }
   ],
   "source": [
    "variable = 1\n",
    "str(variable)"
   ]
  },
  {
   "cell_type": "code",
   "execution_count": 41,
   "metadata": {},
   "outputs": [],
   "source": [
    "yet_another_list = []"
   ]
  },
  {
   "cell_type": "code",
   "execution_count": 42,
   "metadata": {},
   "outputs": [
    {
     "data": {
      "text/plain": [
       "[]"
      ]
     },
     "execution_count": 42,
     "metadata": {},
     "output_type": "execute_result"
    }
   ],
   "source": [
    "yet_another_list"
   ]
  },
  {
   "cell_type": "code",
   "execution_count": 50,
   "metadata": {},
   "outputs": [],
   "source": [
    "yet_another_list.append('cat')"
   ]
  },
  {
   "cell_type": "code",
   "execution_count": 51,
   "metadata": {},
   "outputs": [
    {
     "data": {
      "text/plain": [
       "['cat', 'cat', 'cat', 'cat', 'cat']"
      ]
     },
     "execution_count": 51,
     "metadata": {},
     "output_type": "execute_result"
    }
   ],
   "source": [
    "yet_another_list"
   ]
  },
  {
   "cell_type": "code",
   "execution_count": null,
   "metadata": {},
   "outputs": [],
   "source": []
  },
  {
   "cell_type": "code",
   "execution_count": 53,
   "metadata": {},
   "outputs": [],
   "source": [
    "def numberToString(the_list):\n",
    "    another_list = []\n",
    "    \n",
    "    for item in the_list:    \n",
    "        converted_item = str(item)\n",
    "        another_list.append(converted_item)\n",
    "        \n",
    "    return(another_list)"
   ]
  },
  {
   "cell_type": "code",
   "execution_count": 56,
   "metadata": {},
   "outputs": [
    {
     "name": "stdout",
     "output_type": "stream",
     "text": [
      "['1', '2', '3', '4', '5', '6', '7', '8', '9']\n"
     ]
    }
   ],
   "source": [
    "numbers = [1,2,3,4,5,6,7,8,9]\n",
    "strings = numberToString(numbers)\n",
    "print(strings)"
   ]
  },
  {
   "cell_type": "code",
   "execution_count": 57,
   "metadata": {},
   "outputs": [
    {
     "data": {
      "text/plain": [
       "['1', '2', '3', '4', '5']"
      ]
     },
     "execution_count": 57,
     "metadata": {},
     "output_type": "execute_result"
    }
   ],
   "source": [
    "my_list = [1,2,3,4,5]\n",
    "\n",
    "numberToString(the_list=my_list)"
   ]
  },
  {
   "cell_type": "code",
   "execution_count": 59,
   "metadata": {},
   "outputs": [
    {
     "data": {
      "text/plain": [
       "['1', '2', '3', '4', '5']"
      ]
     },
     "execution_count": 59,
     "metadata": {},
     "output_type": "execute_result"
    }
   ],
   "source": [
    "new_list = [str(number) for number in my_list]\n",
    "new_list"
   ]
  },
  {
   "cell_type": "code",
   "execution_count": 58,
   "metadata": {},
   "outputs": [
    {
     "data": {
      "text/plain": [
       "['0', '1', '2', '3', '4', '5', '6', '7', '8', '9']"
      ]
     },
     "execution_count": 58,
     "metadata": {},
     "output_type": "execute_result"
    }
   ],
   "source": [
    "new_list = [str(number) for number in range(10)]\n",
    "new_list"
   ]
  },
  {
   "cell_type": "markdown",
   "metadata": {},
   "source": [
    "Create a small calculator. The function should pick two numbers and perform one of four mathematical operations with it (sum/subtraction, division, multiplication, exponents). The desired operation should be an option (hint: what IF the user wants to do a sum?)\n",
    "\n",
    "Bonus: Make a function that can pick ANY number of numbers."
   ]
  },
  {
   "cell_type": "code",
   "execution_count": 66,
   "metadata": {},
   "outputs": [],
   "source": [
    "def calculator(num1, num2, operator):\n",
    "    if operator == \"sum\":\n",
    "        return num1 + num2\n",
    "    elif operator == \"subtraction\":\n",
    "        return num1 - num2\n",
    "    elif operator == \"division\":\n",
    "        return num1 / num2\n",
    "    elif operator == \"multiplication\":\n",
    "        return num1 * num2\n",
    "    elif operator == \"exponents\":\n",
    "        return num1 ** num2 \n",
    "    else:\n",
    "        return \"Incorrect operator, Please choose again either from 'sum', 'subtraction', 'multiplication', 'division', or 'exponent'.\""
   ]
  },
  {
   "cell_type": "code",
   "execution_count": 67,
   "metadata": {},
   "outputs": [
    {
     "data": {
      "text/plain": [
       "20"
      ]
     },
     "execution_count": 67,
     "metadata": {},
     "output_type": "execute_result"
    }
   ],
   "source": [
    "calculator(5, 4, \"multiplication\") # the operator could be == \"+\" rather than \"sum\""
   ]
  },
  {
   "cell_type": "code",
   "execution_count": 75,
   "metadata": {},
   "outputs": [],
   "source": [
    "def calculator(*args, operator):    #*args passes a variable of a non-keyword argument to function\n",
    "    if operator == \"sum\":           #We need this because we dont know set amount of arguments\n",
    "        return sum(args)            # Using built-in sum function we'll check the sum of all arguments\n",
    "    elif operator == \"subtraction\": \n",
    "        return args[0] - sum(args[1:])  #This line checks if the operation argument is \"subtraction\". If it is, \n",
    "    elif operator == \"multiplication\":  #the function subtracts the sum of all the arguments except the first one from the first argument.\n",
    "        result = 1\n",
    "        for num in args:                #Following on this is repeated for * and / and **\n",
    "            result *= num\n",
    "        return result\n",
    "    elif operator == \"division\":\n",
    "        result = args[0]\n",
    "        for num in args[1:]:\n",
    "            result /= num\n",
    "        return result\n",
    "    elif operator == \"exponents\":\n",
    "        result = args[0]\n",
    "        for num in args[1:]:\n",
    "            result **= num\n",
    "        return result\n",
    "    else:\n",
    "        return \n",
    "        return \"Incorrect operator, Please choose again either from 'sum', 'subtraction', 'multiplication', 'division', or 'exponent'.\""
   ]
  },
  {
   "cell_type": "code",
   "execution_count": 76,
   "metadata": {},
   "outputs": [
    {
     "data": {
      "text/plain": [
       "42"
      ]
     },
     "execution_count": 76,
     "metadata": {},
     "output_type": "execute_result"
    }
   ],
   "source": [
    "calculator(14, 3, operator=\"multiplication\")"
   ]
  },
  {
   "cell_type": "markdown",
   "metadata": {},
   "source": [
    "Create a function that check if a number is within a list of numbers."
   ]
  },
  {
   "cell_type": "code",
   "execution_count": 77,
   "metadata": {},
   "outputs": [],
   "source": [
    "def check_numbers(number, list_number):\n",
    "    if number in list_number:\n",
    "        return f\"{number} is listed.\"       # f\" makes literal within {} evaluated at runtime and used values\n",
    "    else:\n",
    "        return f\"{number} is not listed.\""
   ]
  },
  {
   "cell_type": "code",
   "execution_count": 79,
   "metadata": {},
   "outputs": [
    {
     "data": {
      "text/plain": [
       "'7 is listed.'"
      ]
     },
     "execution_count": 79,
     "metadata": {},
     "output_type": "execute_result"
    }
   ],
   "source": [
    "check_numbers(7, [1,2,3,4,5,6,7,8,9]) # {number} made literal at runtime to the value 7 (number, list_number)"
   ]
  },
  {
   "cell_type": "markdown",
   "metadata": {},
   "source": [
    "Bonus: similar to the item above, create a function that checks if a string contains a given substring, e.g. 'I have a cat' contains the string sequence 'cat' or 'ave'."
   ]
  },
  {
   "cell_type": "code",
   "execution_count": 80,
   "metadata": {},
   "outputs": [],
   "source": [
    "def check_substring(substring, string):\n",
    "    if substring in string:\n",
    "        return f\"{substring} is included.\"\n",
    "    else:\n",
    "        return f\"{substring} not included.\""
   ]
  },
  {
   "cell_type": "code",
   "execution_count": 85,
   "metadata": {},
   "outputs": [
    {
     "data": {
      "text/plain": [
       "'cat is included.'"
      ]
     },
     "execution_count": 85,
     "metadata": {},
     "output_type": "execute_result"
    }
   ],
   "source": [
    "check_substring(\"cat\", \"I have a cat\")"
   ]
  },
  {
   "cell_type": "markdown",
   "metadata": {},
   "source": [
    "Bonus: create a function that given the initial speed of a projectile that is thrown at 90 degrees will calculate how much time the projectile will take to get back to the initial altitude. (yes you're expected to disregard air resistence)"
   ]
  },
  {
   "cell_type": "code",
   "execution_count": 8,
   "metadata": {},
   "outputs": [
    {
     "name": "stdout",
     "output_type": "stream",
     "text": [
      "The projectile will take 1.02 to return to initial altitude when thrown from the height of 2.00 meters.\n"
     ]
    }
   ],
   "source": [
    "def projectile_return(): # Only one force is acting on an object in projectile motion - gravity (https://www.omnicalculator.com/)\n",
    "    speed = float(input(\"Enter initial speed of projectile in meters per second\")) \n",
    "    height_meters = float(input(\"Enter your height projectile launches from\"))\n",
    "    projectile_max_height = speed / 9.8\n",
    "    total_time = projectile_max_height * 2 # The formula for kinetic energy is KE = 0.5 * m * v^2. We have our projectile_height and we * this by 2 (https://gegcalculators.com/)\n",
    "    \n",
    "    return f\"The projectile will take {total_time:.2f} to return to initial altitude when thrown from the height of {height_meters:.2f} meters.\" # again f\" returns our variables and .2f gives us decimal places\n",
    "    \n",
    "print(projectile_return()) # On Earth"
   ]
  },
  {
   "cell_type": "code",
   "execution_count": 9,
   "metadata": {},
   "outputs": [
    {
     "name": "stdout",
     "output_type": "stream",
     "text": [
      "The projectile will take 2.70 to return to initial altitude when thrown from the height of 2.00 meters.\n"
     ]
    }
   ],
   "source": [
    "def projectile_return(): \n",
    "    speed = float(input(\"Enter initial speed of projectile in meters per second\")) \n",
    "    height_meters = float(input(\"Enter your height projectile launches from\"))\n",
    "    projectile_max_height = speed / 3.7 # The gravitational acceleration on Mars is about 38% of that on earth.\n",
    "    total_time = projectile_max_height * 2 \n",
    "    \n",
    "    return f\"The projectile will take {total_time:.2f} to return to initial altitude when thrown from the height of {height_meters:.2f} meters.\" \n",
    "\n",
    "print(projectile_return()) # On Mars"
   ]
  },
  {
   "cell_type": "markdown",
   "metadata": {},
   "source": [
    "<h1>solve these questions...or ELSE</h1>\n",
    "\n",
    "Why the nested if statement below doesn't only produce the first print? Can you modify it so it produces the desired output?"
   ]
  },
  {
   "cell_type": "code",
   "execution_count": 15,
   "metadata": {},
   "outputs": [
    {
     "name": "stdout",
     "output_type": "stream",
     "text": [
      "Yeeeey!\n"
     ]
    }
   ],
   "source": [
    "food = 'Pizza'\n",
    "drinks = 'Beer'\n",
    "\n",
    "if food == 'Pizza' and drinks == 'Beer':\n",
    "    print('Yeeeey!')\n",
    "elif food == 'Pizza' and drinks != 'Beer':\n",
    "    print('Yey.')\n",
    "elif food != 'Pizza' and drinks == 'Beer': #because this third one was false the code is not executed and the else block is, using elif statements ensures it's only checked if the other two conditions are false.\n",
    "    print('Yey!')\n",
    "else:\n",
    "    print(\".....???\")"
   ]
  },
  {
   "cell_type": "markdown",
   "metadata": {},
   "source": [
    "<h1> Debugging </h1>\n",
    "None of the blocks of code below work. Your task is to make them work (if possible!) and add markup cells (or comments) explaining why they don't work."
   ]
  },
  {
   "cell_type": "markdown",
   "metadata": {},
   "source": [
    "print(\"Is this working?\")"
   ]
  },
  {
   "cell_type": "code",
   "execution_count": 1,
   "metadata": {},
   "outputs": [],
   "source": [
    "print(\"does this work?\") # a pound/hash tag removes the code/ comments out so it isn't executed anymore"
   ]
  },
  {
   "cell_type": "code",
   "execution_count": 17,
   "metadata": {},
   "outputs": [
    {
     "name": "stdout",
     "output_type": "stream",
     "text": [
      "about now?\n"
     ]
    }
   ],
   "source": [
    "print(\"about now?\") # The quotations have to be the same for the function to run "
   ]
  },
  {
   "cell_type": "code",
   "execution_count": 18,
   "metadata": {},
   "outputs": [
    {
     "name": "stdout",
     "output_type": "stream",
     "text": [
      "Today on a scale from 1 to 10 I am feeling... 10\n"
     ]
    }
   ],
   "source": [
    "text_variable = \"Today on a scale from 1 to 10 I am feeling...\"\n",
    "my_mood = 10\n",
    "print(text_variable, my_mood) # The comma helps python to read the statement containing two variables."
   ]
  },
  {
   "cell_type": "code",
   "execution_count": 19,
   "metadata": {},
   "outputs": [
    {
     "name": "stdout",
     "output_type": "stream",
     "text": [
      "text_variable+my_mood\n"
     ]
    }
   ],
   "source": [
    "text_variable = \"Today on a scale from 1 to 10 I am feeling...\"\n",
    "my_mood = 10\n",
    "print(\"text_variable+my_mood\") #Yep there are ways to make it work with a + operator too! the + operator is a special character we need to wrap with \"\" for it to work"
   ]
  },
  {
   "cell_type": "code",
   "execution_count": 23,
   "metadata": {},
   "outputs": [],
   "source": [
    "\n",
    "a_dictionary = {'item1': 'Value 1',     # item1 and item are a string and need '' to work aswell\n",
    "                'item2': 'Value 2',}"
   ]
  },
  {
   "cell_type": "code",
   "execution_count": 26,
   "metadata": {},
   "outputs": [
    {
     "data": {
      "text/plain": [
       "True"
      ]
     },
     "execution_count": 26,
     "metadata": {},
     "output_type": "execute_result"
    }
   ],
   "source": [
    "#1 = 1 # Should return True\n",
    "\n",
    "1 == 1 # operator needed is == Equal"
   ]
  },
  {
   "cell_type": "code",
   "execution_count": 45,
   "metadata": {},
   "outputs": [
    {
     "name": "stdout",
     "output_type": "stream",
     "text": [
      "...do I look like I have this one figured out?\n"
     ]
    }
   ],
   "source": [
    "# Why isn't the outcome 'Clap your hands?'\n",
    "mood = 'happy'\n",
    "if mood == 'Happy':             # mood value is 'happy' not 'Happy'\n",
    "    print('Clap your hands')\n",
    "else:\n",
    "    print('...do I look like I have this one figured out?')"
   ]
  },
  {
   "cell_type": "code",
   "execution_count": 43,
   "metadata": {},
   "outputs": [
    {
     "name": "stdout",
     "output_type": "stream",
     "text": [
      "a word another word\n"
     ]
    }
   ],
   "source": [
    "def printerfunction(x,y):                   # messed with this a bit, I think it was our def statement which is creating the function wasnt in line when we called it printerfunction and maybe : was missing aswell..hey it works\n",
    "    print(x,y)\n",
    "printerfunction(\"a word\", \"another word\")"
   ]
  },
  {
   "cell_type": "code",
   "execution_count": 47,
   "metadata": {},
   "outputs": [
    {
     "name": "stdout",
     "output_type": "stream",
     "text": [
      "Clap your hands\n"
     ]
    }
   ],
   "source": [
    "# bonus/annoying round, why is this crashing?\n",
    "mood = 'Happy'\n",
    "if mood == 'Happy':                       \n",
    "   print('Clap your hands')               \n",
    "else:\n",
    "    print('...do I look like I have this one figured out?')"
   ]
  }
 ],
 "metadata": {
  "kernelspec": {
   "display_name": "Python 3 (ipykernel)",
   "language": "python",
   "name": "python3"
  },
  "language_info": {
   "codemirror_mode": {
    "name": "ipython",
    "version": 3
   },
   "file_extension": ".py",
   "mimetype": "text/x-python",
   "name": "python",
   "nbconvert_exporter": "python",
   "pygments_lexer": "ipython3",
   "version": "3.12.0"
  }
 },
 "nbformat": 4,
 "nbformat_minor": 4
}
